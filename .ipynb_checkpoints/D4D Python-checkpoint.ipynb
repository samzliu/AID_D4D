{
 "metadata": {
  "name": "",
  "signature": "sha256:fee3f615d9fa603e7109ccd4d4d9fc2f3d75986b7798b929d1000f0e801f60e0"
 },
 "nbformat": 3,
 "nbformat_minor": 0,
 "worksheets": [
  {
   "cells": [
    {
     "cell_type": "code",
     "collapsed": false,
     "input": [
      "import requests\n",
      "from pattern import web\n",
      "from bs4 import BeautifulSoup\n",
      "from BeautifulSoup import BeautifulSoup\n",
      "import urllib2"
     ],
     "language": "python",
     "metadata": {},
     "outputs": [],
     "prompt_number": 1
    },
    {
     "cell_type": "code",
     "collapsed": false,
     "input": [
      "'field-name-field-ngo-partner field-type-entityreference field-label-above&quot;&gt;&lt;div class=&quot;field-label&quot;&gt;NGO Partner:&amp;nbsp;&lt;/div&gt;&lt;div class=&quot;field-items&quot;&gt;&lt;div class=&quot;field-item even&quot;&gt;'\n",
      "ngo=re.search(r'NGO Partner:.*Category', newstring)\n",
      "soup=BeautifulSoup(newstring[ngo.start():ngo.end()])\n",
      "partner=soup.text[18:len(soup.text)-8]\n",
      "print partner"
     ],
     "language": "python",
     "metadata": {},
     "outputs": [
      {
       "output_type": "stream",
       "stream": "stdout",
       "text": [
        "853 1123\n",
        "Vikash Educational And Charitable Trust\n"
       ]
      }
     ],
     "prompt_number": 19
    },
    {
     "cell_type": "code",
     "collapsed": false,
     "input": [
      "ngolist"
     ],
     "language": "python",
     "metadata": {},
     "outputs": [
      {
       "metadata": {},
       "output_type": "pyout",
       "prompt_number": 21,
       "text": [
        "[u'RTI MANCH with Manthan',\n",
        " u'India Institute of Critical Action - Center in Movement CACIM',\n",
        " u'SWECCHA',\n",
        " u'Nav Bharat Jagriti Kendra',\n",
        " u'Anusandhan Trust CEHAT',\n",
        " u'Environmental Support Group',\n",
        " u'Uthhan',\n",
        " u'Baikanthapur Tarun Sangha',\n",
        " u'Deepa Academy',\n",
        " u'Vikash Educational And Charitable Trust']"
       ]
      }
     ],
     "prompt_number": 21
    },
    {
     "cell_type": "code",
     "collapsed": false,
     "input": [
      "import requests\n",
      "import xml.etree.ElementTree as ET\n",
      "import re\n",
      "import codecs\n",
      "import unicodedata\n",
      "from bs4 import BeautifulSoup\n",
      "from BeautifulSoup import BeautifulSoup\n",
      "url = 'http://projects.anuyantra.com/published-projects.xml'\n",
      "r = requests.get(url)\n",
      "root=ET.fromstring(r.content)\n",
      "titles=[]\n",
      "urls=[]\n",
      "projectDes=[]\n",
      "catlist=[]\n",
      "ngolist=[]\n",
      "count=0\n",
      "flag=0\n",
      "numSent=1 #max of sentences to include from discription\n",
      "for thing in root.iter('title'):\n",
      "    if flag>0:\n",
      "        titles.append(thing.text)\n",
      "    flag=1\n",
      "flag=0\n",
      "for thing in root.iter('link'):\n",
      "    if flag>0:\n",
      "        urls.append(thing.text)\n",
      "    flag=1\n",
      "states=[]\n",
      "districts=[]\n",
      "for thing in root.iter('description'):\n",
      "    count=count+1\n",
      "    holdstring=[]\n",
      "    testtext=thing.text\n",
      "    if count>1:\n",
      "        for i in testtext:\n",
      "            try:\n",
      "                holdstring.append(str(i))\n",
      "            except UnicodeEncodeError, e:\n",
      "                continue\n",
      "        newstring=''.join(holdstring)\n",
      "        projectsum=re.search(r'Project Summary.* ', newstring)\n",
      "        soup=BeautifulSoup(newstring[projectsum.start():len(newstring)])\n",
      "        unClean=soup.getText()\n",
      "        cleanedPar=' '.join(unClean.split('nbsp;')[1:len(unClean.split('nbsp;'))])\n",
      "        description='.'.join(cleanedPar.split('.')[0:numSent])\n",
      "        projectDes.append(description)\n",
      "        category=re.search(r'project-category.*?\"', newstring)\n",
      "        soup=BeautifulSoup(newstring[category.start():category.end()])\n",
      "        cat=soup.text[17:len(soup.text)-1]\n",
      "        catlist.append(cat)\n",
      "        ngo=re.search(r'NGO Partner:.*Category', newstring)\n",
      "        soup=BeautifulSoup(newstring[ngo.start():ngo.end()])\n",
      "        partner=soup.text[18:len(soup.text)-8]\n",
      "        ngolist.append(partner)\n",
      "        try:\n",
      "            state=re.search(r'/state/.{1,45} ', newstring)\n",
      "            states.append(state.group(0))\n",
      "            district=re.search(r'/district/.{1,45} ', newstring)\n",
      "            districts.append(district.group(0))\n",
      "        except AttributeError:\n",
      "            continue\n",
      "statenames = []            \n",
      "          \n",
      "for i in states:\n",
      "    one = i.split(\"/\")[2].strip()\n",
      "    statenames.append(one.split('\"')[0].strip())\n",
      "    \n",
      "distnames=[]\n",
      "for j in districts:\n",
      "    one = j.split(\"/\")[2].strip()\n",
      "    name = one.split('\"')[0].strip()\n",
      "    if name == 'south-24-parganas':\n",
      "        name = 'south-twenty-four-parganas'\n",
      "    distnames.append(name)  \n",
      "\n",
      "# get longitudes and latitudes\n",
      "longlats =[]\n",
      "hindi = []\n",
      "\n",
      "#using geopy\n",
      "import geopy\n",
      "from geopy.geocoders import Nominatim\n",
      "geolocator = Nominatim()\n",
      "\n",
      "#find longlats using district names\n",
      "for k in range(0,len(distnames)):\n",
      "    location = geolocator.geocode(distnames[k])\n",
      "    hindidist = location.address.split(\",\")\n",
      "    #Hindi characters are indexed at end of array\n",
      "    index = len(hindidist) -1\n",
      "    longlats.append([float(location.raw['lon']),float(location.raw['lat'])])\n",
      "    hindi.append(hindidist[index])\n",
      "\n",
      "#create dictionary\n",
      "projs = []\n",
      "for y in range(0, len(statenames)):\n",
      "    item ={'projectname': titles[y], 'district': distnames[y], 'state': statenames[y], 'hindi':hindi[y], 'sum': projectDes[y], 'url':urls[y], 'longlat': longlats[y], 'category':catlist[y], 'partner': ngolist[y]}\n",
      "    projs.append(item)\n",
      "    \n",
      "projs"
     ],
     "language": "python",
     "metadata": {},
     "outputs": [
      {
       "metadata": {},
       "output_type": "pyout",
       "prompt_number": 22,
       "text": [
        "[{'category': u'peoples-rights-and-justice',\n",
        "  'district': 'jaipur',\n",
        "  'hindi': u' \\u092d\\u093e\\u0930\\u0924 \\u0917\\u0923\\u0930\\u093e\\u091c\\u094d\\u092f',\n",
        "  'longlat': [75.8204056, 26.9161293],\n",
        "  'partner': u'RTI MANCH with Manthan',\n",
        "  'projectname': 'RTI Manch',\n",
        "  'state': 'rajasthan',\n",
        "  'sum': u\"Manthan's RTI Manch initiative focuses on improving transparency in governance and helping people empower themselves by using Right to Information correctly\",\n",
        "  'url': 'http://projects.anuyantra.com/project/rti-manch'},\n",
        " {'category': u'peoples-rights-and-justice',\n",
        "  'district': 'uttarkashi',\n",
        "  'hindi': u' \\u092d\\u093e\\u0930\\u0924 \\u0917\\u0923\\u0930\\u093e\\u091c\\u094d\\u092f',\n",
        "  'longlat': [78.6289831196545, 30.966485],\n",
        "  'partner': u'India Institute of Critical Action - Center in Movement CACIM',\n",
        "  'projectname': 'Dam Awareness Project in Uttarakhand ',\n",
        "  'state': 'uttarakhand',\n",
        "  'sum': u'Rehabilitation and Awareness Program in UttarakhandGoals:& CACIM intends to provide immediate relief in grains and medicine',\n",
        "  'url': 'http://projects.anuyantra.com/project/dam-awareness-project-uttarakhand'},\n",
        " {'category': u'education',\n",
        "  'district': 'south-west-delhi',\n",
        "  'hindi': u' India',\n",
        "  'longlat': [76.9791794293569, 28.5865046],\n",
        "  'partner': u'SWECCHA',\n",
        "  'projectname': 'Jaagriti - an awakening',\n",
        "  'state': 'national-capital-territory-delhi',\n",
        "  'sum': u'To provide quality education and personality development to children in slums in Dwarka in Delhi',\n",
        "  'url': 'http://projects.anuyantra.com/project/jaagriti-awakening'},\n",
        " {'category': u'education',\n",
        "  'district': 'patna',\n",
        "  'hindi': u' \\u092d\\u093e\\u0930\\u0924 \\u0917\\u0923\\u0930\\u093e\\u091c\\u094d\\u092f',\n",
        "  'longlat': [85.1238191, 25.609575],\n",
        "  'partner': u'Nav Bharat Jagriti Kendra',\n",
        "  'projectname': 'JOYFUL EDUCATION & HOLISTIC DEVELOPMENT OF 300 DISADVANTAGED SLUM CHILDRENS IN 8 SLUMS OF PATNA',\n",
        "  'state': 'bihar',\n",
        "  'sum': u'Projects Objectives:To enhance educational status of 300 children with special focus on girl child via promoting process of joyful learningTo inculcate hygienic habits and better health amongst slum children',\n",
        "  'url': 'http://projects.anuyantra.com/project/joyful-education-holistic-development-300-disadvantaged-slum-childrens-8-slums-patna'},\n",
        " {'category': u'health',\n",
        "  'district': 'barwani',\n",
        "  'hindi': u' \\u092d\\u093e\\u0930\\u0924 \\u0917\\u0923\\u0930\\u093e\\u091c\\u094d\\u092f',\n",
        "  'longlat': [74.8972604994331, 21.7528808],\n",
        "  'partner': u'Anusandhan Trust CEHAT',\n",
        "  'projectname': 'Sathi - Cehat',\n",
        "  'state': 'madhya-pradesh',\n",
        "  'sum': u'The record of health system in India towards providing adequate health services has been exceptionally poor',\n",
        "  'url': 'http://projects.anuyantra.com/project/sathi-cehat'},\n",
        " {'category': u'community-empowerment-and-livelihood',\n",
        "  'district': 'chitradurga',\n",
        "  'hindi': u' \\u092d\\u093e\\u0930\\u0924 \\u0917\\u0923\\u0930\\u093e\\u091c\\u094d\\u092f',\n",
        "  'longlat': [76.4005122, 14.2266443],\n",
        "  'partner': u'Environmental Support Group',\n",
        "  'projectname': 'Protection of Amrit Mahal Kavals of Challakere Taluk',\n",
        "  'state': 'karnataka',\n",
        "  'sum': u\"Proposal seeking support to Environment Support Group's ongoing efforts to protect Amrit Mahal Kavals of Challakere Taluk, Chitradurga, Karnataka and associated biodiversity, livelihoods, traditional knowledge systems, etc\",\n",
        "  'url': 'http://projects.anuyantra.com/project/protection-amrit-mahal-kavals-challakere-taluk'},\n",
        " {'category': u'women-empowerment',\n",
        "  'district': 'ahmedabad',\n",
        "  'hindi': u' \\u092d\\u093e\\u0930\\u0924 \\u0917\\u0923\\u0930\\u093e\\u091c\\u094d\\u092f',\n",
        "  'longlat': [72.5797068, 23.0216238],\n",
        "  'partner': u'Uthhan',\n",
        "  'projectname': 'Mainstreaming Gender Perspectives in Various Institutions',\n",
        "  'state': 'gujarat',\n",
        "  'sum': u'For more than three decades, Utthan has been building a movement of women around issues such as basic livelihood needs, protection of resources, and restoration of the traditional role of communities in managing natural resources',\n",
        "  'url': 'http://projects.anuyantra.com/project/mainstreaming-gender-perspectives-various-institutions'},\n",
        " {'category': u'agriculture',\n",
        "  'district': 'south-twenty-four-parganas',\n",
        "  'hindi': u' \\u092d\\u093e\\u0930\\u0924 \\u0917\\u0923\\u0930\\u093e\\u091c\\u094d\\u092f',\n",
        "  'longlat': [88.666667, 22.5],\n",
        "  'partner': u'Baikanthapur Tarun Sangha',\n",
        "  'projectname': 'Sustainable Organic Farming in Sunderbans (with BTS)',\n",
        "  'state': 'west-bengal',\n",
        "  'sum': u'xxxGoals:& xxxAchievements:& xxx',\n",
        "  'url': 'http://projects.anuyantra.com/project/sustainable-organic-farming-sunderbans-bts'},\n",
        " {'category': u'women-empowerment',\n",
        "  'district': 'bangalore-rural',\n",
        "  'hindi': u' \\u092d\\u093e\\u0930\\u0924 \\u0917\\u0923\\u0930\\u093e\\u091c\\u094d\\u092f',\n",
        "  'longlat': [77.2320366610386, 12.86431905],\n",
        "  'partner': u'Deepa Academy',\n",
        "  'projectname': 'Deepa Academy',\n",
        "  'state': 'karnataka',\n",
        "  'sum': u'the funding would be to support the education and daily needs of the young visually challenged girls admitted to the academy',\n",
        "  'url': 'http://projects.anuyantra.com/project/deepa-academy'},\n",
        " {'category': u'community-empowerment-and-livelihood',\n",
        "  'district': 'khordha',\n",
        "  'hindi': u' \\u092d\\u093e\\u0930\\u0924 \\u0917\\u0923\\u0930\\u093e\\u091c\\u094d\\u092f',\n",
        "  'longlat': [85.4986606779682, 20.042873],\n",
        "  'partner': u'Vikash Educational And Charitable Trust',\n",
        "  'projectname': 'ARTRC',\n",
        "  'state': 'odisha',\n",
        "  'sum': u'Funds for the expansion of the Industrial Training Centre of the AID Rural Technology Resource Centre in the Ranadevi Village of the Gajapati District in Odisha',\n",
        "  'url': 'http://projects.anuyantra.com/project/artrc'}]"
       ]
      }
     ],
     "prompt_number": 22
    },
    {
     "cell_type": "code",
     "collapsed": false,
     "input": [
      "location=geolocator.geocode(distnames[2])\n",
      "location.address.split(\",\")\n",
      "distnames[k]"
     ],
     "language": "python",
     "metadata": {},
     "outputs": [
      {
       "metadata": {},
       "output_type": "pyout",
       "prompt_number": 10,
       "text": [
        "'south-24-parganas'"
       ]
      }
     ],
     "prompt_number": 10
    },
    {
     "cell_type": "code",
     "collapsed": false,
     "input": [
      "print str(testing2[0:100])\n",
      "blah=re.compile(str(testing2[0:100]))\n",
      "blah2=blah.search('<div')\n",
      "print blah2\n",
      "really=re.search('is','Pasta is fantastic')\n",
      "really2=re.search('field','<div class=\"field field-name-project-id field-type-ds field-label-above\"><div class=\"field-label\">Pr')\n",
      "print really2.start()\n",
      "holdstring=[]\n",
      "try:\n",
      "    str(testing2)\n",
      "except UnicodeEncodeError, e:\n",
      "    print 'Cannot convert'\n",
      "    continue\n",
      "for i in testing2:\n",
      "    try:\n",
      "        holdstring.append(str(i))\n",
      "    except UnicodeEncodeError, e:\n",
      "        print 'Cannot convert'\n",
      "        continue\n",
      "testing3=''.join(holdstring)\n",
      "type(testing3)\n",
      "really3=re.search(r'/state/.{1,15} ', testing3)\n",
      "print really3.group(0)\n",
      "really3=re.search(r'/district/.{1,15} ', testing3)\n",
      "print really3.group(0)\n",
      "projectsum='Project Summary:&amp;nbsp;&lt;/div&gt;&lt;div class=&quot;field-items&quot;&gt;&lt;div class=&quot;field-item even&quot;&gt; &lt;p&gt'\n",
      "#really3=re.search(r'Project Summary:.*lt', testing3)\n",
      "#print really3.group(0)\n",
      "#print testing3[really3.start():really3.start()+20]\n",
      "#[i for i in testing2]\n",
      "#print testing3"
     ],
     "language": "python",
     "metadata": {},
     "outputs": [
      {
       "output_type": "stream",
       "stream": "stdout",
       "text": [
        "<div class=\"field field-name-project-id field-type-ds field-label-above\"><div class=\"field-label\">Pr\n",
        "None\n",
        "12\n",
        "Cannot convert\n",
        "Cannot convert\n",
        "Cannot convert\n",
        "Cannot convert\n",
        "Cannot convert\n",
        "/state/rajasthan\" \n",
        "/district/jaipur\" \n"
       ]
      },
      {
       "ename": "AttributeError",
       "evalue": "'NoneType' object has no attribute 'group'",
       "output_type": "pyerr",
       "traceback": [
        "\u001b[1;31m---------------------------------------------------------------------------\u001b[0m\n\u001b[1;31mAttributeError\u001b[0m                            Traceback (most recent call last)",
        "\u001b[1;32m<ipython-input-144-a110ada0965f>\u001b[0m in \u001b[0;36m<module>\u001b[1;34m()\u001b[0m\n\u001b[0;32m     21\u001b[0m \u001b[0mprojectsum\u001b[0m\u001b[1;33m=\u001b[0m\u001b[1;34m'Project Summary:&amp;nbsp;&lt;/div&gt;&lt;div class=&quot;field-items&quot;&gt;&lt;div class=&quot;field-item even&quot;&gt; &lt;p&gt'\u001b[0m\u001b[1;33m\u001b[0m\u001b[0m\n\u001b[0;32m     22\u001b[0m \u001b[0mreally3\u001b[0m\u001b[1;33m=\u001b[0m\u001b[0mre\u001b[0m\u001b[1;33m.\u001b[0m\u001b[0msearch\u001b[0m\u001b[1;33m(\u001b[0m\u001b[1;34mr'Project Summary:.*lt'\u001b[0m\u001b[1;33m,\u001b[0m \u001b[0mtesting3\u001b[0m\u001b[1;33m)\u001b[0m\u001b[1;33m\u001b[0m\u001b[0m\n\u001b[1;32m---> 23\u001b[1;33m \u001b[1;32mprint\u001b[0m \u001b[0mreally3\u001b[0m\u001b[1;33m.\u001b[0m\u001b[0mgroup\u001b[0m\u001b[1;33m(\u001b[0m\u001b[1;36m0\u001b[0m\u001b[1;33m)\u001b[0m\u001b[1;33m\u001b[0m\u001b[0m\n\u001b[0m\u001b[0;32m     24\u001b[0m \u001b[1;31m#print testing3[really3.start():really3.start()+20]\u001b[0m\u001b[1;33m\u001b[0m\u001b[1;33m\u001b[0m\u001b[0m\n\u001b[0;32m     25\u001b[0m \u001b[1;31m#[i for i in testing2]\u001b[0m\u001b[1;33m\u001b[0m\u001b[1;33m\u001b[0m\u001b[0m\n",
        "\u001b[1;31mAttributeError\u001b[0m: 'NoneType' object has no attribute 'group'"
       ]
      }
     ],
     "prompt_number": 144
    },
    {
     "cell_type": "code",
     "collapsed": false,
     "input": [
      "projectsum=re.search(r'Project Summary.* ', newstring)\n",
      "blah=projectsum.group(0)\n",
      "one = blah.split(\"<p>\")[1].strip()\n",
      "blah"
     ],
     "language": "python",
     "metadata": {},
     "outputs": [
      {
       "metadata": {},
       "output_type": "pyout",
       "prompt_number": 8,
       "text": [
        "'Project Summary:&nbsp;</div><div class=\"field-items\"><div class=\"field-item even\"> <p>Funds for the expansion of the Industrial Training Centre of the AID Rural Technology Resource Centre in the Ranadevi Village of the Gajapati District in Odisha '"
       ]
      }
     ],
     "prompt_number": 8
    },
    {
     "cell_type": "code",
     "collapsed": false,
     "input": [
      "one = blah.split(\"<p>\")[1].strip()\n",
      "distnames.append(one.split('\"')[0].strip())"
     ],
     "language": "python",
     "metadata": {},
     "outputs": [],
     "prompt_number": 15
    },
    {
     "cell_type": "code",
     "collapsed": false,
     "input": [
      "len('Project Summary:&nbsp;')"
     ],
     "language": "python",
     "metadata": {},
     "outputs": [
      {
       "metadata": {},
       "output_type": "pyout",
       "prompt_number": 61,
       "text": [
        "22"
       ]
      }
     ],
     "prompt_number": 61
    },
    {
     "cell_type": "code",
     "collapsed": false,
     "input": [
      "soup=BeautifulSoup(testingstring)\n",
      "soup.getText()"
     ],
     "language": "python",
     "metadata": {},
     "outputs": [
      {
       "metadata": {},
       "output_type": "pyout",
       "prompt_number": 48,
       "text": [
        "u\"Project Summary:&nbsp;Manthan's RTI Manch initiative focuses on improving transparency in governance and helping people empower themselves by using Right to Information correctly. They also raise awareness about Mahatma Gandhi National Rural Employment Guarantee Act (MGNREGA) that guarantees 100 days of employment yearly to a rural household in the form of manual labourGoals:&nbsp;Conducting election watch for upcoming assembly election in Rajasthan. Collect and circulate data from candidates' affidavits on wealth/ recent increases in wealth, education, criminal record and past performanceOrganizing RTI kiosks at different places of Rajasthan for creating awareness and providing procedural &amp; practical knowledge of RTI.Conducting training program on RTI, MGNREGA, Rajasthan guaranteed delivery of public services Act, 2011 and Rajasthan Right to Hearing Act, 2012.Analysis of Right to Information Commission's decision made in 2013.Making best effort for the implementation of Section 4 of RTI Act 2005 in the state with online application to seek informationOrganizing Grievance redressal camps with state Government on Rajasthan guaranteed delivery of public services Act, 2011 and Rajasthan Right to Hearing Act, 2012 of various department.Organizing public hearing and social audit for making government more accountable and transparent in execution of policies &amp; schemes.Conducting State level agitation for the demand of farmer, labors and Right to Information.Conducting Pension Dharna, protest and Yatra for the demand of universal pension policy for old age people at state and central level.Achievements:&nbsp;ImpactsRTI &amp; MGNREGA Awareness: Eleven campaigns conducted on importance of RTI, filing and tracking. Issues of corruption in MGNREGA, attacks against those unveiling corruption and lack of work under the scheme were highlighted. Dance, music, street theater and kiosks were used to convey the power of RTI. About 700 people were outreached in 6 monthsRTI Helpline: An RTI Helpline was running so that anyone can find any help regarding their RTI application by giving a call. On the whole 234 people called to seek any sort of information through Helpline between January and December. With this helpline, 82 people learnt how to get in contact with the required RTI officer and 71 people learnt how to apply for first appeal when no information was provided.Public Hearing at Barkhera, Bharatpur: Along with district collector 21 central level employees were present at the public hearing on 28th January. More than 100 complaints were submitted to the collector includingNo implementation of 'Janani Suraksha' programme for institutional deliveriesWomen complained of having to pay hospital bills for their child birthNo arrangement of ambulance for pregnant womenVillagers complained about electricity entitlements with BPL cardsThe collector took notice of all complaints and issued show cause notice to hospital and electricity board.Hearing at Bajju, Bikaner: Despite sabotages the public hearing was conducted successfully. Survey on implementation of 'Janani Suraksha' &amp; 'Rajiv Gandhi Village Current Yojana' and 'MGNREGA' conducted by RTI Manch initiative was submitted at the public hearing. Differently abled people, widows, senior citizens have great difficulty in getting their pension. The officer promising to complete their files within 5 daysDemonstrations: 6000 senior citizens from 33 districts gathered at Udyog Maidan Statue Circle, Jaipur demanding Rs.2000 per month pension. The Chief Minister came and promised to look into the issue. A committee has been held at centre level to look into the issue and come up with suitable solutions3rd National Youth Convention: 2000 youth from 15 districts took part in this convention discussing discrimination, Unique Identification Number, emphasis on democratic values in everyday life, importance of using media, mobile, newspaper to spread the news and to seek information.Surveys: Manthan conducted a survey among the RTI government officials to understand how they handle an application and concluded government employees need regular training (It seems last time they had an education tour about RTI was 5 years back), every division should have a separate RTI worker, most of the information should be online.Update on State Information Commission in Rajasthan: In the first 8 months of RTI there was only 1 appointed person for RTI and 2 in the next 2 years. Now government has appointed RTI 'Ayukt' with a team of 20 people. Whenever wrong or false information is given then the applicant has right to file damages and seek money under the act. As of now 795 people file such complaints and 2,83,900 /- have been claimed.\""
       ]
      }
     ],
     "prompt_number": 48
    },
    {
     "cell_type": "code",
     "collapsed": false,
     "input": [],
     "language": "python",
     "metadata": {},
     "outputs": []
    }
   ],
   "metadata": {}
  }
 ]
}