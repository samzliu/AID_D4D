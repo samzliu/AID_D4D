{
 "metadata": {
  "name": "",
  "signature": "sha256:d43fadf2d98d9150def8e2f49d6ee812cd5218b8f81faa5ce444fef69d92c95e"
 },
 "nbformat": 3,
 "nbformat_minor": 0,
 "worksheets": [
  {
   "cells": [
    {
     "cell_type": "code",
     "collapsed": false,
     "input": [
      "import requests\n",
      "from pattern import web\n",
      "from bs4 import BeautifulSoup\n",
      "from BeautifulSoup import BeautifulSoup\n",
      "import urllib2"
     ],
     "language": "python",
     "metadata": {},
     "outputs": [],
     "prompt_number": 1
    },
    {
     "cell_type": "code",
     "collapsed": false,
     "input": [
      "#.split('.')[0:15]\n",
      "x=1\n",
      "#cleanedPar=' '.join(projectDes[0].split('nbsp;')[1:len(projectDes[0].split('nbsp;'))])\n",
      "#description='.'.join(cleanedPar.split('.')[0:x])\n",
      "cleanedPar=' '.join(unClean.split('nbsp;')[1:len(unClean.split('nbsp;'))])\n",
      "description='.'.join(cleanedPar.split('.')[0:x])\n",
      "description"
     ],
     "language": "python",
     "metadata": {},
     "outputs": [
      {
       "metadata": {},
       "output_type": "pyout",
       "prompt_number": 50,
       "text": [
        "u'Funds for the expansion of the Industrial Training Centre of the AID Rural Technology Resource Centre in the Ranadevi Village of the Gajapati District in Odisha'"
       ]
      }
     ],
     "prompt_number": 50
    },
    {
     "cell_type": "code",
     "collapsed": false,
     "input": [
      "import requests\n",
      "import xml.etree.ElementTree as ET\n",
      "import re\n",
      "import codecs\n",
      "import unicodedata\n",
      "from bs4 import BeautifulSoup\n",
      "from BeautifulSoup import BeautifulSoup\n",
      "url = 'http://projects.anuyantra.com/published-projects.xml'\n",
      "r = requests.get(url)\n",
      "root=ET.fromstring(r.content)\n",
      "titles=[]\n",
      "urls=[]\n",
      "projectDes=[]\n",
      "count=0\n",
      "flag=0\n",
      "numSent=1 #max of sentences to include from discription\n",
      "for thing in root.iter('title'):\n",
      "    if flag>0:\n",
      "        titles.append(thing.text)\n",
      "    flag=1\n",
      "flag=0\n",
      "for thing in root.iter('link'):\n",
      "    if flag>0:\n",
      "        urls.append(thing.text)\n",
      "    flag=1\n",
      "states=[]\n",
      "districts=[]\n",
      "for thing in root.iter('description'):\n",
      "    count=count+1\n",
      "    holdstring=[]\n",
      "    testtext=thing.text\n",
      "    if count>1:\n",
      "        for i in testtext:\n",
      "            try:\n",
      "                holdstring.append(str(i))\n",
      "            except UnicodeEncodeError, e:\n",
      "                continue\n",
      "        newstring=''.join(holdstring)\n",
      "        projectsum=re.search(r'Project Summary.* ', newstring)\n",
      "        soup=BeautifulSoup(newstring[projectsum.start():len(newstring)])\n",
      "        unClean=soup.getText()\n",
      "        cleanedPar=' '.join(unClean.split('nbsp;')[1:len(unClean.split('nbsp;'))])\n",
      "        description='.'.join(cleanedPar.split('.')[0:numSent])\n",
      "        projectDes.append(description)\n",
      "        try:\n",
      "            state=re.search(r'/state/.{1,45} ', newstring)\n",
      "            states.append(state.group(0))\n",
      "            district=re.search(r'/district/.{1,45} ', newstring)\n",
      "            districts.append(district.group(0))\n",
      "        except AttributeError:\n",
      "            continue\n",
      "statenames = []            \n",
      "for i in states:\n",
      "    one = i.split(\"/\")[2].strip()\n",
      "    statenames.append(one.split('\"')[0].strip())\n",
      "    \n",
      "distnames=[]\n",
      "for j in districts:\n",
      "    one = j.split(\"/\")[2].strip()\n",
      "    distnames.append(one.split('\"')[0].strip())\n",
      "    \n",
      "longlats = [[26.5727, 73.8390], [30.3300, 78.0600], [28.6100, 77.2300], [25.3700, 85.1300], [23.2500, 77.4170], [12.9702, 77.5603], \n",
      " [23.2167, 72.6833],[22.5667, 88.3667], [12.9702, 77.5603], [20.1500, 85.5000]]\n",
      "    \n",
      "tuples=zip(titles, urls, statenames, distnames, longlats, projectDes)\n",
      "list_of_lists = [list(elem) for elem in tuples]\n",
      "list_of_lists"
     ],
     "language": "python",
     "metadata": {},
     "outputs": [
      {
       "metadata": {},
       "output_type": "pyout",
       "prompt_number": 2,
       "text": [
        "[['RTI Manch',\n",
        "  'http://projects.anuyantra.com/project/rti-manch',\n",
        "  'rajasthan',\n",
        "  'jaipur',\n",
        "  [26.5727, 73.839],\n",
        "  u\"Manthan's RTI Manch initiative focuses on improving transparency in governance and helping people empower themselves by using Right to Information correctly\"],\n",
        " ['Dam Awareness Project in Uttarakhand ',\n",
        "  'http://projects.anuyantra.com/project/dam-awareness-project-uttarakhand',\n",
        "  'uttarakhand',\n",
        "  'uttarkashi',\n",
        "  [30.33, 78.06],\n",
        "  u'Rehabilitation and Awareness Program in UttarakhandGoals:& CACIM intends to provide immediate relief in grains and medicine'],\n",
        " ['Jaagriti - an awakening',\n",
        "  'http://projects.anuyantra.com/project/jaagriti-awakening',\n",
        "  'national-capital-territory-delhi',\n",
        "  'south-west-delhi',\n",
        "  [28.61, 77.23],\n",
        "  u'To provide quality education and personality development to children in slums in Dwarka in Delhi'],\n",
        " ['JOYFUL EDUCATION & HOLISTIC DEVELOPMENT OF 300 DISADVANTAGED SLUM CHILDRENS IN 8 SLUMS OF PATNA',\n",
        "  'http://projects.anuyantra.com/project/joyful-education-holistic-development-300-disadvantaged-slum-childrens-8-slums-patna',\n",
        "  'bihar',\n",
        "  'patna',\n",
        "  [25.37, 85.13],\n",
        "  u'Projects Objectives:To enhance educational status of 300 children with special focus on girl child via promoting process of joyful learningTo inculcate hygienic habits and better health amongst slum children'],\n",
        " ['Sathi - Cehat',\n",
        "  'http://projects.anuyantra.com/project/sathi-cehat',\n",
        "  'madhya-pradesh',\n",
        "  'barwani',\n",
        "  [23.25, 77.417],\n",
        "  u'The record of health system in India towards providing adequate health services has been exceptionally poor'],\n",
        " ['Protection of Amrit Mahal Kavals of Challakere Taluk',\n",
        "  'http://projects.anuyantra.com/project/protection-amrit-mahal-kavals-challakere-taluk',\n",
        "  'karnataka',\n",
        "  'chitradurga',\n",
        "  [12.9702, 77.5603],\n",
        "  u\"Proposal seeking support to Environment Support Group's ongoing efforts to protect Amrit Mahal Kavals of Challakere Taluk, Chitradurga, Karnataka and associated biodiversity, livelihoods, traditional knowledge systems, etc\"],\n",
        " ['Mainstreaming Gender Perspectives in Various Institutions',\n",
        "  'http://projects.anuyantra.com/project/mainstreaming-gender-perspectives-various-institutions',\n",
        "  'gujarat',\n",
        "  'ahmedabad',\n",
        "  [23.2167, 72.6833],\n",
        "  u'For more than three decades, Utthan has been building a movement of women around issues such as basic livelihood needs, protection of resources, and restoration of the traditional role of communities in managing natural resources'],\n",
        " ['Sustainable Organic Farming in Sunderbans (with BTS)',\n",
        "  'http://projects.anuyantra.com/project/sustainable-organic-farming-sunderbans-bts',\n",
        "  'west-bengal',\n",
        "  'south-24-parganas',\n",
        "  [22.5667, 88.3667],\n",
        "  u'xxxGoals:& xxxAchievements:& xxx'],\n",
        " ['Deepa Academy',\n",
        "  'http://projects.anuyantra.com/project/deepa-academy',\n",
        "  'karnataka',\n",
        "  'bangalore-rural',\n",
        "  [12.9702, 77.5603],\n",
        "  u'the funding would be to support the education and daily needs of the young visually challenged girls admitted to the academy'],\n",
        " ['ARTRC',\n",
        "  'http://projects.anuyantra.com/project/artrc',\n",
        "  'odisha',\n",
        "  'khordha',\n",
        "  [20.15, 85.5],\n",
        "  u'Funds for the expansion of the Industrial Training Centre of the AID Rural Technology Resource Centre in the Ranadevi Village of the Gajapati District in Odisha']]"
       ]
      }
     ],
     "prompt_number": 2
    },
    {
     "cell_type": "code",
     "collapsed": false,
     "input": [
      "print str(testing2[0:100])\n",
      "blah=re.compile(str(testing2[0:100]))\n",
      "blah2=blah.search('<div')\n",
      "print blah2\n",
      "really=re.search('is','Pasta is fantastic')\n",
      "really2=re.search('field','<div class=\"field field-name-project-id field-type-ds field-label-above\"><div class=\"field-label\">Pr')\n",
      "print really2.start()\n",
      "holdstring=[]\n",
      "try:\n",
      "    str(testing2)\n",
      "except UnicodeEncodeError, e:\n",
      "    print 'Cannot convert'\n",
      "    continue\n",
      "for i in testing2:\n",
      "    try:\n",
      "        holdstring.append(str(i))\n",
      "    except UnicodeEncodeError, e:\n",
      "        print 'Cannot convert'\n",
      "        continue\n",
      "testing3=''.join(holdstring)\n",
      "type(testing3)\n",
      "really3=re.search(r'/state/.{1,15} ', testing3)\n",
      "print really3.group(0)\n",
      "really3=re.search(r'/district/.{1,15} ', testing3)\n",
      "print really3.group(0)\n",
      "projectsum='Project Summary:&amp;nbsp;&lt;/div&gt;&lt;div class=&quot;field-items&quot;&gt;&lt;div class=&quot;field-item even&quot;&gt; &lt;p&gt'\n",
      "#really3=re.search(r'Project Summary:.*lt', testing3)\n",
      "#print really3.group(0)\n",
      "#print testing3[really3.start():really3.start()+20]\n",
      "#[i for i in testing2]\n",
      "#print testing3"
     ],
     "language": "python",
     "metadata": {},
     "outputs": [
      {
       "output_type": "stream",
       "stream": "stdout",
       "text": [
        "<div class=\"field field-name-project-id field-type-ds field-label-above\"><div class=\"field-label\">Pr\n",
        "None\n",
        "12\n",
        "Cannot convert\n",
        "Cannot convert\n",
        "Cannot convert\n",
        "Cannot convert\n",
        "Cannot convert\n",
        "/state/rajasthan\" \n",
        "/district/jaipur\" \n"
       ]
      },
      {
       "ename": "AttributeError",
       "evalue": "'NoneType' object has no attribute 'group'",
       "output_type": "pyerr",
       "traceback": [
        "\u001b[1;31m---------------------------------------------------------------------------\u001b[0m\n\u001b[1;31mAttributeError\u001b[0m                            Traceback (most recent call last)",
        "\u001b[1;32m<ipython-input-144-a110ada0965f>\u001b[0m in \u001b[0;36m<module>\u001b[1;34m()\u001b[0m\n\u001b[0;32m     21\u001b[0m \u001b[0mprojectsum\u001b[0m\u001b[1;33m=\u001b[0m\u001b[1;34m'Project Summary:&amp;nbsp;&lt;/div&gt;&lt;div class=&quot;field-items&quot;&gt;&lt;div class=&quot;field-item even&quot;&gt; &lt;p&gt'\u001b[0m\u001b[1;33m\u001b[0m\u001b[0m\n\u001b[0;32m     22\u001b[0m \u001b[0mreally3\u001b[0m\u001b[1;33m=\u001b[0m\u001b[0mre\u001b[0m\u001b[1;33m.\u001b[0m\u001b[0msearch\u001b[0m\u001b[1;33m(\u001b[0m\u001b[1;34mr'Project Summary:.*lt'\u001b[0m\u001b[1;33m,\u001b[0m \u001b[0mtesting3\u001b[0m\u001b[1;33m)\u001b[0m\u001b[1;33m\u001b[0m\u001b[0m\n\u001b[1;32m---> 23\u001b[1;33m \u001b[1;32mprint\u001b[0m \u001b[0mreally3\u001b[0m\u001b[1;33m.\u001b[0m\u001b[0mgroup\u001b[0m\u001b[1;33m(\u001b[0m\u001b[1;36m0\u001b[0m\u001b[1;33m)\u001b[0m\u001b[1;33m\u001b[0m\u001b[0m\n\u001b[0m\u001b[0;32m     24\u001b[0m \u001b[1;31m#print testing3[really3.start():really3.start()+20]\u001b[0m\u001b[1;33m\u001b[0m\u001b[1;33m\u001b[0m\u001b[0m\n\u001b[0;32m     25\u001b[0m \u001b[1;31m#[i for i in testing2]\u001b[0m\u001b[1;33m\u001b[0m\u001b[1;33m\u001b[0m\u001b[0m\n",
        "\u001b[1;31mAttributeError\u001b[0m: 'NoneType' object has no attribute 'group'"
       ]
      }
     ],
     "prompt_number": 144
    },
    {
     "cell_type": "code",
     "collapsed": false,
     "input": [
      "projectsum=re.search(r'Project Summary.* ', newstring)\n",
      "blah=projectsum.group(0)\n",
      "one = blah.split(\"<p>\")[1].strip()\n",
      "blah"
     ],
     "language": "python",
     "metadata": {},
     "outputs": [
      {
       "metadata": {},
       "output_type": "pyout",
       "prompt_number": 8,
       "text": [
        "'Project Summary:&nbsp;</div><div class=\"field-items\"><div class=\"field-item even\"> <p>Funds for the expansion of the Industrial Training Centre of the AID Rural Technology Resource Centre in the Ranadevi Village of the Gajapati District in Odisha '"
       ]
      }
     ],
     "prompt_number": 8
    },
    {
     "cell_type": "code",
     "collapsed": false,
     "input": [
      "one = blah.split(\"<p>\")[1].strip()\n",
      "distnames.append(one.split('\"')[0].strip())"
     ],
     "language": "python",
     "metadata": {},
     "outputs": [],
     "prompt_number": 15
    },
    {
     "cell_type": "code",
     "collapsed": false,
     "input": [
      "len('Project Summary:&nbsp;')"
     ],
     "language": "python",
     "metadata": {},
     "outputs": [
      {
       "metadata": {},
       "output_type": "pyout",
       "prompt_number": 61,
       "text": [
        "22"
       ]
      }
     ],
     "prompt_number": 61
    },
    {
     "cell_type": "code",
     "collapsed": false,
     "input": [
      "soup=BeautifulSoup(testingstring)\n",
      "soup.getText()"
     ],
     "language": "python",
     "metadata": {},
     "outputs": [
      {
       "metadata": {},
       "output_type": "pyout",
       "prompt_number": 48,
       "text": [
        "u\"Project Summary:&nbsp;Manthan's RTI Manch initiative focuses on improving transparency in governance and helping people empower themselves by using Right to Information correctly. They also raise awareness about Mahatma Gandhi National Rural Employment Guarantee Act (MGNREGA) that guarantees 100 days of employment yearly to a rural household in the form of manual labourGoals:&nbsp;Conducting election watch for upcoming assembly election in Rajasthan. Collect and circulate data from candidates' affidavits on wealth/ recent increases in wealth, education, criminal record and past performanceOrganizing RTI kiosks at different places of Rajasthan for creating awareness and providing procedural &amp; practical knowledge of RTI.Conducting training program on RTI, MGNREGA, Rajasthan guaranteed delivery of public services Act, 2011 and Rajasthan Right to Hearing Act, 2012.Analysis of Right to Information Commission's decision made in 2013.Making best effort for the implementation of Section 4 of RTI Act 2005 in the state with online application to seek informationOrganizing Grievance redressal camps with state Government on Rajasthan guaranteed delivery of public services Act, 2011 and Rajasthan Right to Hearing Act, 2012 of various department.Organizing public hearing and social audit for making government more accountable and transparent in execution of policies &amp; schemes.Conducting State level agitation for the demand of farmer, labors and Right to Information.Conducting Pension Dharna, protest and Yatra for the demand of universal pension policy for old age people at state and central level.Achievements:&nbsp;ImpactsRTI &amp; MGNREGA Awareness: Eleven campaigns conducted on importance of RTI, filing and tracking. Issues of corruption in MGNREGA, attacks against those unveiling corruption and lack of work under the scheme were highlighted. Dance, music, street theater and kiosks were used to convey the power of RTI. About 700 people were outreached in 6 monthsRTI Helpline: An RTI Helpline was running so that anyone can find any help regarding their RTI application by giving a call. On the whole 234 people called to seek any sort of information through Helpline between January and December. With this helpline, 82 people learnt how to get in contact with the required RTI officer and 71 people learnt how to apply for first appeal when no information was provided.Public Hearing at Barkhera, Bharatpur: Along with district collector 21 central level employees were present at the public hearing on 28th January. More than 100 complaints were submitted to the collector includingNo implementation of 'Janani Suraksha' programme for institutional deliveriesWomen complained of having to pay hospital bills for their child birthNo arrangement of ambulance for pregnant womenVillagers complained about electricity entitlements with BPL cardsThe collector took notice of all complaints and issued show cause notice to hospital and electricity board.Hearing at Bajju, Bikaner: Despite sabotages the public hearing was conducted successfully. Survey on implementation of 'Janani Suraksha' &amp; 'Rajiv Gandhi Village Current Yojana' and 'MGNREGA' conducted by RTI Manch initiative was submitted at the public hearing. Differently abled people, widows, senior citizens have great difficulty in getting their pension. The officer promising to complete their files within 5 daysDemonstrations: 6000 senior citizens from 33 districts gathered at Udyog Maidan Statue Circle, Jaipur demanding Rs.2000 per month pension. The Chief Minister came and promised to look into the issue. A committee has been held at centre level to look into the issue and come up with suitable solutions3rd National Youth Convention: 2000 youth from 15 districts took part in this convention discussing discrimination, Unique Identification Number, emphasis on democratic values in everyday life, importance of using media, mobile, newspaper to spread the news and to seek information.Surveys: Manthan conducted a survey among the RTI government officials to understand how they handle an application and concluded government employees need regular training (It seems last time they had an education tour about RTI was 5 years back), every division should have a separate RTI worker, most of the information should be online.Update on State Information Commission in Rajasthan: In the first 8 months of RTI there was only 1 appointed person for RTI and 2 in the next 2 years. Now government has appointed RTI 'Ayukt' with a team of 20 people. Whenever wrong or false information is given then the applicant has right to file damages and seek money under the act. As of now 795 people file such complaints and 2,83,900 /- have been claimed.\""
       ]
      }
     ],
     "prompt_number": 48
    },
    {
     "cell_type": "code",
     "collapsed": false,
     "input": [],
     "language": "python",
     "metadata": {},
     "outputs": []
    }
   ],
   "metadata": {}
  }
 ]
}